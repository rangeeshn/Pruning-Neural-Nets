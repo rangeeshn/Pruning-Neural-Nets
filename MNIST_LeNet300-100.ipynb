{
 "cells": [
  {
   "cell_type": "code",
   "execution_count": 1,
   "metadata": {
    "ExecuteTime": {
     "end_time": "2019-04-03T01:18:29.443985Z",
     "start_time": "2019-04-03T01:18:23.439039Z"
    }
   },
   "outputs": [
    {
     "name": "stderr",
     "output_type": "stream",
     "text": [
      "C:\\Anaconda\\lib\\site-packages\\h5py\\__init__.py:36: FutureWarning: Conversion of the second argument of issubdtype from `float` to `np.floating` is deprecated. In future, it will be treated as `np.float64 == np.dtype(float).type`.\n",
      "  from ._conv import register_converters as _register_converters\n"
     ]
    }
   ],
   "source": [
    "import matplotlib.pyplot as plt\n",
    "import numpy as np\n",
    "import pandas as pd\n",
    "import seaborn as sns\n",
    "import tensorflow as tf\n",
    "import time\n",
    "import h5py\n",
    "\n",
    "sns.set()\n",
    "tf.enable_eager_execution()\n",
    "tf.set_random_seed(1867)"
   ]
  },
  {
   "cell_type": "code",
   "execution_count": 2,
   "metadata": {
    "ExecuteTime": {
     "end_time": "2019-04-03T01:18:30.617296Z",
     "start_time": "2019-04-03T01:18:29.447973Z"
    }
   },
   "outputs": [
    {
     "name": "stdout",
     "output_type": "stream",
     "text": [
      "(60000, 28, 28)\n"
     ]
    }
   ],
   "source": [
    "(x_train, y_train), (x_test, y_test) = tf.keras.datasets.mnist.load_data()\n",
    "print(x_train.shape)\n",
    "dataset_train = tf.data.Dataset.from_tensor_slices((\n",
    "    tf.cast(x_train/255, tf.float32),\n",
    "    tf.cast(y_train, tf.int64)\n",
    ")).shuffle(1000).batch(64)\n",
    "\n",
    "dataset_test = tf.data.Dataset.from_tensor_slices((\n",
    "    tf.cast(x_test/255, tf.float32),\n",
    "    tf.cast(y_test, tf.int64)\n",
    ")).batch(64)"
   ]
  },
  {
   "cell_type": "code",
   "execution_count": 3,
   "metadata": {
    "ExecuteTime": {
     "end_time": "2019-04-03T01:18:30.704041Z",
     "start_time": "2019-04-03T01:18:30.621482Z"
    }
   },
   "outputs": [
    {
     "name": "stdout",
     "output_type": "stream",
     "text": [
      "WARNING:tensorflow:From C:\\Anaconda\\lib\\site-packages\\tensorflow\\python\\ops\\resource_variable_ops.py:642: colocate_with (from tensorflow.python.framework.ops) is deprecated and will be removed in a future version.\n",
      "Instructions for updating:\n",
      "Colocations handled automatically by placer.\n"
     ]
    }
   ],
   "source": [
    "model = tf.keras.Sequential([\n",
    "    tf.keras.layers.Flatten(input_shape=(28, 28)),\n",
    "    tf.keras.layers.Dense(300, activation=tf.nn.relu, use_bias=False),\n",
    "    tf.keras.layers.Dense(100, activation=tf.nn.relu, use_bias=False),\n",
    "    tf.keras.layers.Dense(10, use_bias=False)\n",
    "])"
   ]
  },
  {
   "cell_type": "code",
   "execution_count": 4,
   "metadata": {
    "ExecuteTime": {
     "end_time": "2019-04-03T01:18:30.714422Z",
     "start_time": "2019-04-03T01:18:30.707117Z"
    }
   },
   "outputs": [],
   "source": [
    "def test(model, dataset):\n",
    "    epoch_accuracy = tf.contrib.eager.metrics.Accuracy()\n",
    "    for x, y in dataset:\n",
    "        outputs = model(x)\n",
    "        epoch_accuracy(tf.argmax(outputs, axis=1, output_type=tf.int64), y)\n",
    "    return epoch_accuracy.result().numpy()"
   ]
  },
  {
   "cell_type": "code",
   "execution_count": 5,
   "metadata": {
    "ExecuteTime": {
     "end_time": "2019-04-03T01:18:30.732327Z",
     "start_time": "2019-04-03T01:18:30.721769Z"
    }
   },
   "outputs": [],
   "source": [
    "def train(model, dataset, epochs):\n",
    "    training_accuracies = []\n",
    "    for e in range(epochs):\n",
    "        epoch_loss_avg = tf.contrib.eager.metrics.Mean()\n",
    "        epoch_accuracy = tf.contrib.eager.metrics.Accuracy()\n",
    "        for x, y in dataset:\n",
    "            with tf.GradientTape() as tape:\n",
    "                outputs = model(x)\n",
    "                loss = tf.losses.softmax_cross_entropy(tf.one_hot(y, 10), outputs)\n",
    "            grads = tape.gradient(loss, model.trainable_weights)\n",
    "            optimizer.apply_gradients(\n",
    "                zip(grads, model.trainable_weights), global_step)\n",
    "            epoch_loss_avg(loss)\n",
    "            epoch_accuracy(tf.argmax(outputs, axis=1, output_type=tf.int64), y)\n",
    "        training_accuracies.append(epoch_accuracy.result())\n",
    "    return model, training_accuracies\n",
    "    "
   ]
  },
  {
   "cell_type": "code",
   "execution_count": 6,
   "metadata": {
    "ExecuteTime": {
     "end_time": "2019-04-03T01:21:13.163627Z",
     "start_time": "2019-04-03T01:18:30.737316Z"
    },
    "code_folding": [],
    "run_control": {
     "marked": true
    },
    "scrolled": true
   },
   "outputs": [
    {
     "name": "stdout",
     "output_type": "stream",
     "text": [
      "\n",
      "WARNING: The TensorFlow contrib module will not be included in TensorFlow 2.0.\n",
      "For more information, please see:\n",
      "  * https://github.com/tensorflow/community/blob/master/rfcs/20180907-contrib-sunset.md\n",
      "  * https://github.com/tensorflow/addons\n",
      "If you depend on functionality not listed there, please file an issue.\n",
      "\n",
      "WARNING:tensorflow:From C:\\Anaconda\\lib\\site-packages\\tensorflow\\python\\ops\\losses\\losses_impl.py:209: to_float (from tensorflow.python.ops.math_ops) is deprecated and will be removed in a future version.\n",
      "Instructions for updating:\n",
      "Use tf.cast instead.\n"
     ]
    }
   ],
   "source": [
    "optimizer = tf.train.AdamOptimizer()\n",
    "global_step = tf.train.get_or_create_global_step()\n",
    "\n",
    "model, training_accuracies = train(model, dataset_train, 10)\n",
    "\n",
    "model.save(\"./LeNet300_100_mnist_results/before_pruning.h5\")"
   ]
  },
  {
   "cell_type": "code",
   "execution_count": 7,
   "metadata": {
    "ExecuteTime": {
     "end_time": "2019-04-03T01:21:14.111234Z",
     "start_time": "2019-04-03T01:21:13.166619Z"
    }
   },
   "outputs": [
    {
     "name": "stdout",
     "output_type": "stream",
     "text": [
      "Test Accuracy: 0.9735, Timing: 0.94s\n"
     ]
    }
   ],
   "source": [
    "t = time.clock()\n",
    "a = test(model,dataset_test)\n",
    "t = time.clock() - t\n",
    "print(f\"Test Accuracy: {a:.4f}, Timing: {t:.2f}s\")"
   ]
  },
  {
   "cell_type": "code",
   "execution_count": 8,
   "metadata": {
    "ExecuteTime": {
     "end_time": "2019-04-03T01:21:14.272445Z",
     "start_time": "2019-04-03T01:21:14.114229Z"
    }
   },
   "outputs": [
    {
     "data": {
      "image/png": "[encoded data removed]",
      "text/plain": [
       "<Figure size 1080x216 with 1 Axes>"
      ]
     },
     "metadata": {},
     "output_type": "display_data"
    }
   ],
   "source": [
    "# Plot training curves\n",
    "plt.figure(1, figsize=(15,3))\n",
    "plt.plot(training_accuracies)\n",
    "plt.xlabel('Epoch')\n",
    "plt.ylabel('Train Accuracy');"
   ]
  },
  {
   "cell_type": "code",
   "execution_count": 9,
   "metadata": {
    "ExecuteTime": {
     "end_time": "2019-04-03T01:21:14.282419Z",
     "start_time": "2019-04-03T01:21:14.274881Z"
    }
   },
   "outputs": [],
   "source": [
    "def prune_weights(dense_model, percentile):\n",
    "    prev_kept_columns = None\n",
    "    pruned_model = tf.keras.models.Sequential()\n",
    "    pruned_model.add(tf.keras.layers.Flatten(input_shape=(28, 28)))\n",
    "    num_layers = len(dense_model.trainable_weights)\n",
    "\n",
    "    for i_layer, weights in enumerate(dense_model.trainable_weights):\n",
    "        weights_np = weights.numpy()\n",
    "        \n",
    "        # Remove pruned columns\n",
    "        if i_layer < num_layers-1: # Do not prune last layer\n",
    "            column_norms = np.linalg.norm(weights_np, ord=2, axis=0)\n",
    "            critical_value = np.percentile(column_norms, percentile)\n",
    "            keep_mask = column_norms >= critical_value\n",
    "            weights_np = weights_np[:, keep_mask]\n",
    "            \n",
    "        # Remove rows corresponding to previous layer's pruned columns\n",
    "        if prev_kept_columns is not None:\n",
    "            weights_np = weights_np[prev_kept_columns, :]\n",
    "        \n",
    "        # Record which columns were kept\n",
    "        if i_layer < num_layers-1: # No pruned columns in last layer\n",
    "            prev_kept_columns = np.argwhere(keep_mask).reshape(-1)\n",
    "        \n",
    "        # Add new layer to sparse model\n",
    "        new_layer = tf.keras.layers.Dense(weights_np.shape[1], activation=tf.nn.relu, use_bias=False)\n",
    "        pruned_model.add(new_layer)\n",
    "        new_layer.set_weights([weights_np])\n",
    "        \n",
    "    return pruned_model"
   ]
  },
  {
   "cell_type": "code",
   "execution_count": 10,
   "metadata": {
    "ExecuteTime": {
     "end_time": "2019-04-03T01:21:14.953211Z",
     "start_time": "2019-04-03T01:21:14.284411Z"
    }
   },
   "outputs": [
    {
     "name": "stdout",
     "output_type": "stream",
     "text": [
      "Test Accuracy: 0.9366, Timing: 0.51s\n"
     ]
    }
   ],
   "source": [
    "pruned_model_50 = prune_weights(model, 50)\n",
    "\n",
    "pruned_model_50.save(\"./LeNet300_100_mnist_results/after_pruning_50.h5\")\n",
    "\n",
    "\n",
    "t = time.clock()\n",
    "a = test(pruned_model_50,dataset_test)\n",
    "t = time.clock() - t\n",
    "print(f\"Test Accuracy: {a:.4f}, Timing: {t:.2f}s\")"
   ]
  },
  {
   "cell_type": "code",
   "execution_count": 11,
   "metadata": {
    "ExecuteTime": {
     "end_time": "2019-04-03T01:23:51.031500Z",
     "start_time": "2019-04-03T01:21:14.955206Z"
    }
   },
   "outputs": [
    {
     "name": "stdout",
     "output_type": "stream",
     "text": [
      "Test Accuracy: 0.9809, Timing: 0.84s\n"
     ]
    }
   ],
   "source": [
    "pruned_model_50_retrain, prune_training_accuracies_50 = train(pruned_model_50, dataset_train, 10)\n",
    "    \n",
    "t = time.clock()\n",
    "a = test(pruned_model_50_retrain,dataset_test)\n",
    "t = time.clock() - t\n",
    "print(f\"Test Accuracy: {a:.4f}, Timing: {t:.2f}s\")\n",
    "\n",
    "pruned_model_50_retrain.save(\"./LeNet300_100_mnist_results/pruned_retrained_50.h5\")"
   ]
  },
  {
   "cell_type": "code",
   "execution_count": 12,
   "metadata": {
    "ExecuteTime": {
     "end_time": "2019-04-03T01:23:51.942472Z",
     "start_time": "2019-04-03T01:23:51.035480Z"
    }
   },
   "outputs": [
    {
     "name": "stdout",
     "output_type": "stream",
     "text": [
      "Test Accuracy: 0.8927, Timing: 0.85s\n"
     ]
    }
   ],
   "source": [
    "pruned_model_60 = prune_weights(model, 60)\n",
    "\n",
    "pruned_model_60.save(\"./LeNet300_100_mnist_results/after_pruning_60.h5\")\n",
    "\n",
    "\n",
    "t = time.clock()\n",
    "a = test(pruned_model_60,dataset_test)\n",
    "t = time.clock() - t\n",
    "print(f\"Test Accuracy: {a:.4f}, Timing: {t:.2f}s\")"
   ]
  },
  {
   "cell_type": "code",
   "execution_count": 13,
   "metadata": {
    "ExecuteTime": {
     "end_time": "2019-04-03T01:26:22.832613Z",
     "start_time": "2019-04-03T01:23:51.949520Z"
    }
   },
   "outputs": [
    {
     "name": "stdout",
     "output_type": "stream",
     "text": [
      "Test Accuracy: 0.9776, Timing: 0.81s\n"
     ]
    }
   ],
   "source": [
    "pruned_model_60_retrain, prune_training_accuracies_60 = train(pruned_model_60, dataset_train, 10)\n",
    "    \n",
    "t = time.clock()\n",
    "a = test(pruned_model_60_retrain,dataset_test)\n",
    "t = time.clock() - t\n",
    "print(f\"Test Accuracy: {a:.4f}, Timing: {t:.2f}s\")\n",
    "\n",
    "pruned_model_60_retrain.save(\"./LeNet300_100_mnist_results/pruned_retrained_60.h5\")"
   ]
  },
  {
   "cell_type": "code",
   "execution_count": 14,
   "metadata": {
    "ExecuteTime": {
     "end_time": "2019-04-03T01:26:23.471530Z",
     "start_time": "2019-04-03T01:26:22.835186Z"
    }
   },
   "outputs": [
    {
     "name": "stdout",
     "output_type": "stream",
     "text": [
      "Test Accuracy: 0.7496, Timing: 0.57s\n"
     ]
    }
   ],
   "source": [
    "pruned_model_70 = prune_weights(model, 70)\n",
    "\n",
    "pruned_model_70.save(\"./LeNet300_100_mnist_results/after_pruning_70.h5\")\n",
    "\n",
    "\n",
    "t = time.clock()\n",
    "a = test(pruned_model_70,dataset_test)\n",
    "t = time.clock() - t\n",
    "print(f\"Test Accuracy: {a:.4f}, Timing: {t:.2f}s\")"
   ]
  },
  {
   "cell_type": "code",
   "execution_count": 15,
   "metadata": {
    "ExecuteTime": {
     "end_time": "2019-04-03T01:28:21.429681Z",
     "start_time": "2019-04-03T01:26:23.474465Z"
    }
   },
   "outputs": [
    {
     "name": "stdout",
     "output_type": "stream",
     "text": [
      "Test Accuracy: 0.9774, Timing: 0.81s\n"
     ]
    }
   ],
   "source": [
    "pruned_model_70_retrain, prune_training_accuracies_70 = train(pruned_model_70, dataset_train, 10)\n",
    "    \n",
    "t = time.clock()\n",
    "a = test(pruned_model_70_retrain,dataset_test)\n",
    "t = time.clock() - t\n",
    "print(f\"Test Accuracy: {a:.4f}, Timing: {t:.2f}s\")\n",
    "\n",
    "pruned_model_70_retrain.save(\"./LeNet300_100_mnist_results/pruned_retrained_70.h5\")"
   ]
  },
  {
   "cell_type": "code",
   "execution_count": 16,
   "metadata": {
    "ExecuteTime": {
     "end_time": "2019-04-03T01:28:22.290389Z",
     "start_time": "2019-04-03T01:28:21.436063Z"
    }
   },
   "outputs": [
    {
     "name": "stdout",
     "output_type": "stream",
     "text": [
      "Test Accuracy: 0.5442, Timing: 0.74s\n"
     ]
    }
   ],
   "source": [
    "pruned_model_80 = prune_weights(model, 80)\n",
    "\n",
    "pruned_model_80.save(\"./LeNet300_100_mnist_results/after_pruning_80.h5\")\n",
    "\n",
    "\n",
    "t = time.clock()\n",
    "a = test(pruned_model_80,dataset_test)\n",
    "t = time.clock() - t\n",
    "print(f\"Test Accuracy: {a:.4f}, Timing: {t:.2f}s\")"
   ]
  },
  {
   "cell_type": "code",
   "execution_count": 17,
   "metadata": {
    "ExecuteTime": {
     "end_time": "2019-04-03T01:30:04.929915Z",
     "start_time": "2019-04-03T01:28:22.296684Z"
    }
   },
   "outputs": [
    {
     "name": "stdout",
     "output_type": "stream",
     "text": [
      "Test Accuracy: 0.9762, Timing: 0.81s\n"
     ]
    }
   ],
   "source": [
    "pruned_model_80_retrain, prune_training_accuracies_80 = train(pruned_model_80, dataset_train, 10)\n",
    "    \n",
    "t = time.clock()\n",
    "a = test(pruned_model_80_retrain,dataset_test)\n",
    "t = time.clock() - t\n",
    "print(f\"Test Accuracy: {a:.4f}, Timing: {t:.2f}s\")\n",
    "\n",
    "pruned_model_80_retrain.save(\"./LeNet300_100_mnist_results/pruned_retrained_80.h5\")"
   ]
  },
  {
   "cell_type": "code",
   "execution_count": 18,
   "metadata": {
    "ExecuteTime": {
     "end_time": "2019-04-03T01:30:05.916813Z",
     "start_time": "2019-04-03T01:30:04.937815Z"
    }
   },
   "outputs": [
    {
     "name": "stdout",
     "output_type": "stream",
     "text": [
      "Test Accuracy: 0.3043, Timing: 0.85s\n"
     ]
    }
   ],
   "source": [
    "pruned_model_90 = prune_weights(model, 90)\n",
    "\n",
    "pruned_model_90.save(\"./LeNet300_100_mnist_results/after_pruning_90.h5\")\n",
    "\n",
    "\n",
    "t = time.clock()\n",
    "a = test(pruned_model_90,dataset_test)\n",
    "t = time.clock() - t\n",
    "print(f\"Test Accuracy: {a:.4f}, Timing: {t:.2f}s\")"
   ]
  },
  {
   "cell_type": "code",
   "execution_count": 19,
   "metadata": {
    "ExecuteTime": {
     "end_time": "2019-04-03T01:31:42.382802Z",
     "start_time": "2019-04-03T01:30:05.925790Z"
    }
   },
   "outputs": [
    {
     "name": "stdout",
     "output_type": "stream",
     "text": [
      "Test Accuracy: 0.8756, Timing: 0.66s\n"
     ]
    }
   ],
   "source": [
    "pruned_model_90_retrain, prune_training_accuracies_90 = train(pruned_model_90, dataset_train, 10)\n",
    "\n",
    "t = time.clock()\n",
    "a = test(pruned_model_90_retrain,dataset_test)\n",
    "t = time.clock() - t\n",
    "print(f\"Test Accuracy: {a:.4f}, Timing: {t:.2f}s\")\n",
    "\n",
    "pruned_model_90_retrain.save(\"./LeNet300_100_mnist_results/pruned_retrained_90.h5\")"
   ]
  }
 ],
 "metadata": {
  "hide_input": false,
  "kernelspec": {
   "display_name": "Python 3",
   "language": "python",
   "name": "python3"
  },
  "language_info": {
   "codemirror_mode": {
    "name": "ipython",
    "version": 3
   },
   "file_extension": ".py",
   "mimetype": "text/x-python",
   "name": "python",
   "nbconvert_exporter": "python",
   "pygments_lexer": "ipython3",
   "version": "3.6.5"
  },
  "notify_time": "5",
  "toc": {
   "base_numbering": 1,
   "nav_menu": {},
   "number_sections": true,
   "sideBar": true,
   "skip_h1_title": false,
   "title_cell": "Table of Contents",
   "title_sidebar": "Contents",
   "toc_cell": false,
   "toc_position": {},
   "toc_section_display": true,
   "toc_window_display": false
  }
 },
 "nbformat": 4,
 "nbformat_minor": 2
}
